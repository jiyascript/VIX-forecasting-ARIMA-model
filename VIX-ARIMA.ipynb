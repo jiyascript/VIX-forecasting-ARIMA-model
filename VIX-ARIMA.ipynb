{
 "cells": [
  {
   "cell_type": "markdown",
   "id": "6109114f-d35c-4d19-afa8-50ac3c6c6dd8",
   "metadata": {},
   "source": [
    "## FORECASTING THE VOLATILITY INDEC USING ARIMA MODELING\n",
    "\n",
    "The CBOE VIX is a crucial indicator of expected market volatility. It reflects the collective sentiment of investors regarding future market fluctuations, as inferred from the price of 'put' and 'call' options on the S&P 500 Index.\n",
    "\n",
    "This project utilizes historical CBOE Volatility Index data to analyze trends in market volatility over time. The VIX provides insights into expected market movements. By applying time series techniques, the aim is to forecast future VIX values, thereby predicting potential shifts in market sentiment and risk levels.\n"
   ]
  },
  {
   "cell_type": "code",
   "execution_count": 181,
   "id": "b26f3604-083a-4def-bdef-f388080de5ee",
   "metadata": {},
   "outputs": [],
   "source": [
    "import pandas as pd\n",
    "import matplotlib.pyplot as plt\n",
    "import numpy as np\n",
    "import seaborn as sns\n",
    "import requests"
   ]
  },
  {
   "cell_type": "markdown",
   "id": "a2dc4ed6-95a3-44d4-ad0e-2da71b5e9ab2",
   "metadata": {},
   "source": [
    "### Loading the dataset\n",
    "The dataset is updated daily, which ensures that the model's predictions are based on the more recent market conditions."
   ]
  },
  {
   "cell_type": "code",
   "execution_count": 182,
   "id": "84d2f99e-40a2-4d7b-8267-b32a6d0bb0fc",
   "metadata": {},
   "outputs": [],
   "source": [
    "url = 'https://raw.githubusercontent.com/datasets/finance-vix/main/data/vix-daily.csv'\n",
    "\n",
    "response = requests.get(url)\n",
    "with open('vix_data.csv', 'wb') as file:\n",
    "    file.write(response.content)\n",
    "vix_data = pd.read_csv('vix_data.csv')"
   ]
  },
  {
   "cell_type": "code",
   "execution_count": 183,
   "id": "0a915471-abc5-4507-b480-ee1de23b4965",
   "metadata": {},
   "outputs": [
    {
     "name": "stdout",
     "output_type": "stream",
     "text": [
      "Index(['DATE', 'OPEN', 'HIGH', 'LOW', 'CLOSE'], dtype='object')\n"
     ]
    }
   ],
   "source": [
    "print(vix_data.columns)"
   ]
  },
  {
   "cell_type": "code",
   "execution_count": 184,
   "id": "cae38a48-0355-4d45-951c-d515d55f14f8",
   "metadata": {},
   "outputs": [],
   "source": [
    "vix_data.set_index('DATE', inplace = True)\n",
    "vix_data.index = pd.to_datetime(vix_data.index)"
   ]
  },
  {
   "cell_type": "code",
   "execution_count": 185,
   "id": "7be85268-ed73-4f27-88c5-5b409d8186de",
   "metadata": {},
   "outputs": [
    {
     "data": {
      "text/html": [
       "<div>\n",
       "<style scoped>\n",
       "    .dataframe tbody tr th:only-of-type {\n",
       "        vertical-align: middle;\n",
       "    }\n",
       "\n",
       "    .dataframe tbody tr th {\n",
       "        vertical-align: top;\n",
       "    }\n",
       "\n",
       "    .dataframe thead th {\n",
       "        text-align: right;\n",
       "    }\n",
       "</style>\n",
       "<table border=\"1\" class=\"dataframe\">\n",
       "  <thead>\n",
       "    <tr style=\"text-align: right;\">\n",
       "      <th></th>\n",
       "      <th>OPEN</th>\n",
       "      <th>HIGH</th>\n",
       "      <th>LOW</th>\n",
       "      <th>CLOSE</th>\n",
       "    </tr>\n",
       "    <tr>\n",
       "      <th>DATE</th>\n",
       "      <th></th>\n",
       "      <th></th>\n",
       "      <th></th>\n",
       "      <th></th>\n",
       "    </tr>\n",
       "  </thead>\n",
       "  <tbody>\n",
       "    <tr>\n",
       "      <th>1990-01-02</th>\n",
       "      <td>17.24</td>\n",
       "      <td>17.24</td>\n",
       "      <td>17.24</td>\n",
       "      <td>17.24</td>\n",
       "    </tr>\n",
       "    <tr>\n",
       "      <th>1990-01-03</th>\n",
       "      <td>18.19</td>\n",
       "      <td>18.19</td>\n",
       "      <td>18.19</td>\n",
       "      <td>18.19</td>\n",
       "    </tr>\n",
       "    <tr>\n",
       "      <th>1990-01-04</th>\n",
       "      <td>19.22</td>\n",
       "      <td>19.22</td>\n",
       "      <td>19.22</td>\n",
       "      <td>19.22</td>\n",
       "    </tr>\n",
       "    <tr>\n",
       "      <th>1990-01-05</th>\n",
       "      <td>20.11</td>\n",
       "      <td>20.11</td>\n",
       "      <td>20.11</td>\n",
       "      <td>20.11</td>\n",
       "    </tr>\n",
       "    <tr>\n",
       "      <th>1990-01-08</th>\n",
       "      <td>20.26</td>\n",
       "      <td>20.26</td>\n",
       "      <td>20.26</td>\n",
       "      <td>20.26</td>\n",
       "    </tr>\n",
       "  </tbody>\n",
       "</table>\n",
       "</div>"
      ],
      "text/plain": [
       "             OPEN   HIGH    LOW  CLOSE\n",
       "DATE                                  \n",
       "1990-01-02  17.24  17.24  17.24  17.24\n",
       "1990-01-03  18.19  18.19  18.19  18.19\n",
       "1990-01-04  19.22  19.22  19.22  19.22\n",
       "1990-01-05  20.11  20.11  20.11  20.11\n",
       "1990-01-08  20.26  20.26  20.26  20.26"
      ]
     },
     "execution_count": 185,
     "metadata": {},
     "output_type": "execute_result"
    }
   ],
   "source": [
    "vix_data.head()"
   ]
  },
  {
   "cell_type": "code",
   "execution_count": 186,
   "id": "a32f9d2e-753a-46ab-ab2b-889aa57862aa",
   "metadata": {},
   "outputs": [
    {
     "data": {
      "text/html": [
       "<div>\n",
       "<style scoped>\n",
       "    .dataframe tbody tr th:only-of-type {\n",
       "        vertical-align: middle;\n",
       "    }\n",
       "\n",
       "    .dataframe tbody tr th {\n",
       "        vertical-align: top;\n",
       "    }\n",
       "\n",
       "    .dataframe thead th {\n",
       "        text-align: right;\n",
       "    }\n",
       "</style>\n",
       "<table border=\"1\" class=\"dataframe\">\n",
       "  <thead>\n",
       "    <tr style=\"text-align: right;\">\n",
       "      <th></th>\n",
       "      <th>OPEN</th>\n",
       "      <th>HIGH</th>\n",
       "      <th>LOW</th>\n",
       "      <th>CLOSE</th>\n",
       "    </tr>\n",
       "    <tr>\n",
       "      <th>DATE</th>\n",
       "      <th></th>\n",
       "      <th></th>\n",
       "      <th></th>\n",
       "      <th></th>\n",
       "    </tr>\n",
       "  </thead>\n",
       "  <tbody>\n",
       "    <tr>\n",
       "      <th>2024-08-16</th>\n",
       "      <td>15.29</td>\n",
       "      <td>15.76</td>\n",
       "      <td>14.65</td>\n",
       "      <td>14.80</td>\n",
       "    </tr>\n",
       "    <tr>\n",
       "      <th>2024-08-19</th>\n",
       "      <td>15.94</td>\n",
       "      <td>16.07</td>\n",
       "      <td>14.46</td>\n",
       "      <td>14.65</td>\n",
       "    </tr>\n",
       "    <tr>\n",
       "      <th>2024-08-20</th>\n",
       "      <td>14.89</td>\n",
       "      <td>15.93</td>\n",
       "      <td>14.78</td>\n",
       "      <td>15.88</td>\n",
       "    </tr>\n",
       "    <tr>\n",
       "      <th>2024-08-21</th>\n",
       "      <td>16.25</td>\n",
       "      <td>17.17</td>\n",
       "      <td>15.92</td>\n",
       "      <td>16.27</td>\n",
       "    </tr>\n",
       "    <tr>\n",
       "      <th>2024-08-22</th>\n",
       "      <td>16.27</td>\n",
       "      <td>18.06</td>\n",
       "      <td>15.76</td>\n",
       "      <td>17.55</td>\n",
       "    </tr>\n",
       "  </tbody>\n",
       "</table>\n",
       "</div>"
      ],
      "text/plain": [
       "             OPEN   HIGH    LOW  CLOSE\n",
       "DATE                                  \n",
       "2024-08-16  15.29  15.76  14.65  14.80\n",
       "2024-08-19  15.94  16.07  14.46  14.65\n",
       "2024-08-20  14.89  15.93  14.78  15.88\n",
       "2024-08-21  16.25  17.17  15.92  16.27\n",
       "2024-08-22  16.27  18.06  15.76  17.55"
      ]
     },
     "execution_count": 186,
     "metadata": {},
     "output_type": "execute_result"
    }
   ],
   "source": [
    "vix_data.tail()"
   ]
  },
  {
   "cell_type": "markdown",
   "id": "2c1820b4-5b4e-4084-a1c2-f4913b54f034",
   "metadata": {},
   "source": [
    "### Analyzing VIX\n",
    "\n",
    "The yearly average of the VIX is plotted to observe long-term trends in market volatility.()"
   ]
  },
  {
   "cell_type": "code",
   "execution_count": 187,
   "id": "5c85bb2b-837d-4114-b11c-0432c296a08f",
   "metadata": {},
   "outputs": [
    {
     "data": {
      "text/plain": [
       "<Axes: xlabel='DATE', ylabel='CLOSE'>"
      ]
     },
     "execution_count": 187,
     "metadata": {},
     "output_type": "execute_result"
    },
    {
     "data": {
      "image/png": "[encoded data removed]",
      "text/plain": [
       "<Figure size 640x480 with 1 Axes>"
      ]
     },
     "metadata": {},
     "output_type": "display_data"
    }
   ],
   "source": [
    "yearwise = vix_data['CLOSE'].resample('Y').mean()\n",
    "sns.lineplot(data=vix_data, x=vix_data.index, y='CLOSE')"
   ]
  },
  {
   "cell_type": "markdown",
   "id": "7cd223d7-2d59-46c5-b19f-74a77127bd39",
   "metadata": {},
   "source": [
    "### Stationarity Check \n",
    "Statistical properties - mean, variance, and covariance of the dependent variable - of a time series that has stationarity are constant over time\n"
   ]
  },
  {
   "cell_type": "markdown",
   "id": "76c2b7bb-7b9c-448a-a4cb-a8e9f6da7cf3",
   "metadata": {},
   "source": [
    "#### AUGMENTED DICKEY-FULLER TEST\n",
    "\n",
    "The ADF test is used to test the null hypothesis that a unit root is present in a time series, which implies that the series is non-stationary.\n",
    "For the analysis, the 'autolag; parameter is set to 'AIC' to allow the test to automatically select the lag length that minimizes the Akaike Information Criterion (AIC)."
   ]
  },
  {
   "cell_type": "code",
   "execution_count": 188,
   "id": "866aece5-7168-4f52-a88a-0409b7ffe5b2",
   "metadata": {},
   "outputs": [
    {
     "data": {
      "text/plain": [
       "(-6.968730755477114,\n",
       " 8.776555251210055e-10,\n",
       " 10,\n",
       " 8729,\n",
       " {'1%': -3.4310993669444065,\n",
       "  '5%': -2.86187117030305,\n",
       "  '10%': -2.566946276984866},\n",
       " 33001.16885607586)"
      ]
     },
     "execution_count": 188,
     "metadata": {},
     "output_type": "execute_result"
    }
   ],
   "source": [
    "from statsmodels.tsa.stattools import adfuller\n",
    "\n",
    "adf = adfuller(vix_data['CLOSE'], autolag= 'AIC')\n",
    "adf"
   ]
  },
  {
   "cell_type": "code",
   "execution_count": 189,
   "id": "9b90c526-432d-473b-b9ee-c1cb3c9e50f6",
   "metadata": {},
   "outputs": [
    {
     "data": {
      "text/plain": [
       "ADF Statistics:           -6.968731e+00\n",
       "p-value:                   8.776555e-10\n",
       "Lags Used:                 1.000000e+01\n",
       "Number of Observations:    8.729000e+03\n",
       "dtype: float64"
      ]
     },
     "execution_count": 189,
     "metadata": {},
     "output_type": "execute_result"
    }
   ],
   "source": [
    "adf_stats = pd.Series(adf[0:4], index = ['ADF Statistics:', 'p-value:','Lags Used:','Number of Observations:'])\n",
    "adf_stats"
   ]
  },
  {
   "cell_type": "code",
   "execution_count": 190,
   "id": "d2b67e89-9e8d-4d2b-8600-863919010a3c",
   "metadata": {},
   "outputs": [
    {
     "name": "stdout",
     "output_type": "stream",
     "text": [
      "Critical Values:\t1%:-3.4310993669444065\n",
      "Critical Values:\t5%:-2.86187117030305\n",
      "Critical Values:\t10%:-2.566946276984866\n"
     ]
    }
   ],
   "source": [
    "for key, values in adf[4].items():\n",
    "    print(\"Critical Values:\"\n",
    "         f'\\t{key}:{values}')"
   ]
  },
  {
   "cell_type": "markdown",
   "id": "b5935880-aa15-438e-8bb8-c0b9548bbc52",
   "metadata": {},
   "source": [
    "Given that the test statistics is significantly lower than the critical values at 1%, 5%, and 10% levels, and the p-value is effectively 0, reject the null hypothesis.\n",
    "\n",
    "This indicates that the VIX series is stationary."
   ]
  },
  {
   "cell_type": "markdown",
   "id": "e00cfc52-81ea-4806-9e0f-a9a9ecf2f8e0",
   "metadata": {},
   "source": [
    "### ARIMA Model Selection \n",
    "Autocorrelation and Partial Autocorrelation Analysis are used to determine the appropriate parameters for the ARIMA model."
   ]
  },
  {
   "cell_type": "markdown",
   "id": "a170107d-8ab0-4b3c-806d-b2350c9b1804",
   "metadata": {},
   "source": [
    "#### Autocorrelation and Partial Autocorrelation Analysis\n",
    "\n",
    "Analyzing ACF plot gives the MA(q) component by showing the correlation of the series with lagged values, and PACF gives the AR(p) component by showing the partial correlation of the series with its lags, after removing the influence of earlier lags."
   ]
  },
  {
   "cell_type": "code",
   "execution_count": 192,
   "id": "a78d4085-619c-45da-b232-98a8339c7861",
   "metadata": {},
   "outputs": [],
   "source": [
    "from statsmodels.graphics.tsaplots import plot_pacf, plot_acf"
   ]
  },
  {
   "cell_type": "code",
   "execution_count": 227,
   "id": "aa891e89-efe9-43df-b42e-9258ec04b178",
   "metadata": {},
   "outputs": [
    {
     "data": {
      "image/png": "[encoded data removed]",
      "text/plain": [
       "<Figure size 640x480 with 1 Axes>"
      ]
     },
     "metadata": {},
     "output_type": "display_data"
    }
   ],
   "source": [
    "plot_pacf(vix_data['CLOSE'], lags = 40)\n",
    "plt.show()"
   ]
  },
  {
   "cell_type": "markdown",
   "id": "4f1a7c1a-6f8a-4b13-9d67-1aecfab1d591",
   "metadata": {},
   "source": [
    "The PACF plot shows a spike at 1, after which the values decay to zero, and hence p=1."
   ]
  },
  {
   "cell_type": "code",
   "execution_count": 226,
   "id": "2749f8b7-052c-4bc0-bd5d-ef5e288253a4",
   "metadata": {},
   "outputs": [
    {
     "data": {
      "image/png": "[encoded data removed]",
      "text/plain": [
       "<Figure size 640x480 with 1 Axes>"
      ]
     },
     "metadata": {},
     "output_type": "display_data"
    }
   ],
   "source": [
    "plot_acf(vix_data['CLOSE'], lags = 40)\n",
    "plt.show()"
   ]
  },
  {
   "cell_type": "markdown",
   "id": "1ec900ad-b979-4faf-9516-3ba34389203d",
   "metadata": {},
   "source": [
    "The ACF plot exhibits a slow decay, suggesting that each observation is correlated with previous ones. This indicates a higher-order MA, hence q = 2."
   ]
  },
  {
   "cell_type": "markdown",
   "id": "1e1dd7ba-e208-483f-8361-72ea2d628904",
   "metadata": {},
   "source": [
    "### Building ARIMA model\n",
    "Using the selected 'p', 'd', and 'q' values, the next step is to build an ARIMA model. Since the series is stationary based on the ADF test, d will be 0."
   ]
  },
  {
   "cell_type": "code",
   "execution_count": 195,
   "id": "48fef4be-80c1-40da-b2bf-ca650640599a",
   "metadata": {},
   "outputs": [],
   "source": [
    "from statsmodels.tsa.arima.model import ARIMA"
   ]
  },
  {
   "cell_type": "code",
   "execution_count": 196,
   "id": "72fea4ba-837e-4774-8c87-1ed02ef03306",
   "metadata": {},
   "outputs": [],
   "source": [
    "#80% training, 20% testing\n",
    "split_point = int(len(vix_data) *0.8)\n",
    "train = vix_data['CLOSE'][:split_point]\n",
    "test = vix_data['CLOSE'][split_point:]"
   ]
  },
  {
   "cell_type": "code",
   "execution_count": 219,
   "id": "cba9453a-9ec6-4aea-b1bc-eefa6c7a3e91",
   "metadata": {},
   "outputs": [
    {
     "name": "stderr",
     "output_type": "stream",
     "text": [
      "C:\\Users\\jiyas\\AppData\\Roaming\\Python\\Python311\\site-packages\\statsmodels\\tsa\\base\\tsa_model.py:473: ValueWarning: A date index has been provided, but it has no associated frequency information and so will be ignored when e.g. forecasting.\n",
      "  self._init_dates(dates, freq)\n",
      "C:\\Users\\jiyas\\AppData\\Roaming\\Python\\Python311\\site-packages\\statsmodels\\tsa\\base\\tsa_model.py:473: ValueWarning: A date index has been provided, but it has no associated frequency information and so will be ignored when e.g. forecasting.\n",
      "  self._init_dates(dates, freq)\n",
      "C:\\Users\\jiyas\\AppData\\Roaming\\Python\\Python311\\site-packages\\statsmodels\\tsa\\base\\tsa_model.py:473: ValueWarning: A date index has been provided, but it has no associated frequency information and so will be ignored when e.g. forecasting.\n",
      "  self._init_dates(dates, freq)\n"
     ]
    },
    {
     "data": {
      "text/html": [
       "<table class=\"simpletable\">\n",
       "<caption>SARIMAX Results</caption>\n",
       "<tr>\n",
       "  <th>Dep. Variable:</th>         <td>CLOSE</td>      <th>  No. Observations:  </th>    <td>6992</td>   \n",
       "</tr>\n",
       "<tr>\n",
       "  <th>Model:</th>            <td>ARIMA(1, 0, 2)</td>  <th>  Log Likelihood     </th> <td>-12740.037</td>\n",
       "</tr>\n",
       "<tr>\n",
       "  <th>Date:</th>            <td>Fri, 23 Aug 2024</td> <th>  AIC                </th>  <td>25490.074</td>\n",
       "</tr>\n",
       "<tr>\n",
       "  <th>Time:</th>                <td>17:04:29</td>     <th>  BIC                </th>  <td>25524.337</td>\n",
       "</tr>\n",
       "<tr>\n",
       "  <th>Sample:</th>                  <td>0</td>        <th>  HQIC               </th>  <td>25501.881</td>\n",
       "</tr>\n",
       "<tr>\n",
       "  <th></th>                      <td> - 6992</td>     <th>                     </th>      <td> </td>    \n",
       "</tr>\n",
       "<tr>\n",
       "  <th>Covariance Type:</th>        <td>opg</td>       <th>                     </th>      <td> </td>    \n",
       "</tr>\n",
       "</table>\n",
       "<table class=\"simpletable\">\n",
       "<tr>\n",
       "     <td></td>       <th>coef</th>     <th>std err</th>      <th>z</th>      <th>P>|z|</th>  <th>[0.025</th>    <th>0.975]</th>  \n",
       "</tr>\n",
       "<tr>\n",
       "  <th>const</th>  <td>   19.4149</td> <td>    1.623</td> <td>   11.963</td> <td> 0.000</td> <td>   16.234</td> <td>   22.596</td>\n",
       "</tr>\n",
       "<tr>\n",
       "  <th>ar.L1</th>  <td>    0.9885</td> <td>    0.001</td> <td> 1064.962</td> <td> 0.000</td> <td>    0.987</td> <td>    0.990</td>\n",
       "</tr>\n",
       "<tr>\n",
       "  <th>ma.L1</th>  <td>   -0.1109</td> <td>    0.005</td> <td>  -20.338</td> <td> 0.000</td> <td>   -0.122</td> <td>   -0.100</td>\n",
       "</tr>\n",
       "<tr>\n",
       "  <th>ma.L2</th>  <td>   -0.0979</td> <td>    0.004</td> <td>  -23.564</td> <td> 0.000</td> <td>   -0.106</td> <td>   -0.090</td>\n",
       "</tr>\n",
       "<tr>\n",
       "  <th>sigma2</th> <td>    2.2385</td> <td>    0.013</td> <td>  172.178</td> <td> 0.000</td> <td>    2.213</td> <td>    2.264</td>\n",
       "</tr>\n",
       "</table>\n",
       "<table class=\"simpletable\">\n",
       "<tr>\n",
       "  <th>Ljung-Box (L1) (Q):</th>     <td>0.18</td> <th>  Jarque-Bera (JB):  </th> <td>90855.61</td>\n",
       "</tr>\n",
       "<tr>\n",
       "  <th>Prob(Q):</th>                <td>0.67</td> <th>  Prob(JB):          </th>   <td>0.00</td>  \n",
       "</tr>\n",
       "<tr>\n",
       "  <th>Heteroskedasticity (H):</th> <td>2.69</td> <th>  Skew:              </th>   <td>1.34</td>  \n",
       "</tr>\n",
       "<tr>\n",
       "  <th>Prob(H) (two-sided):</th>    <td>0.00</td> <th>  Kurtosis:          </th>   <td>20.46</td> \n",
       "</tr>\n",
       "</table><br/><br/>Warnings:<br/>[1] Covariance matrix calculated using the outer product of gradients (complex-step)."
      ],
      "text/latex": [
       "\\begin{center}\n",
       "\\begin{tabular}{lclc}\n",
       "\\toprule\n",
       "\\textbf{Dep. Variable:}          &      CLOSE       & \\textbf{  No. Observations:  } &    6992     \\\\\n",
       "\\textbf{Model:}                  &  ARIMA(1, 0, 2)  & \\textbf{  Log Likelihood     } & -12740.037  \\\\\n",
       "\\textbf{Date:}                   & Fri, 23 Aug 2024 & \\textbf{  AIC                } & 25490.074   \\\\\n",
       "\\textbf{Time:}                   &     17:04:29     & \\textbf{  BIC                } & 25524.337   \\\\\n",
       "\\textbf{Sample:}                 &        0         & \\textbf{  HQIC               } & 25501.881   \\\\\n",
       "\\textbf{}                        &      - 6992      & \\textbf{                     } &             \\\\\n",
       "\\textbf{Covariance Type:}        &       opg        & \\textbf{                     } &             \\\\\n",
       "\\bottomrule\n",
       "\\end{tabular}\n",
       "\\begin{tabular}{lcccccc}\n",
       "                & \\textbf{coef} & \\textbf{std err} & \\textbf{z} & \\textbf{P$> |$z$|$} & \\textbf{[0.025} & \\textbf{0.975]}  \\\\\n",
       "\\midrule\n",
       "\\textbf{const}  &      19.4149  &        1.623     &    11.963  &         0.000        &       16.234    &       22.596     \\\\\n",
       "\\textbf{ar.L1}  &       0.9885  &        0.001     &  1064.962  &         0.000        &        0.987    &        0.990     \\\\\n",
       "\\textbf{ma.L1}  &      -0.1109  &        0.005     &   -20.338  &         0.000        &       -0.122    &       -0.100     \\\\\n",
       "\\textbf{ma.L2}  &      -0.0979  &        0.004     &   -23.564  &         0.000        &       -0.106    &       -0.090     \\\\\n",
       "\\textbf{sigma2} &       2.2385  &        0.013     &   172.178  &         0.000        &        2.213    &        2.264     \\\\\n",
       "\\bottomrule\n",
       "\\end{tabular}\n",
       "\\begin{tabular}{lclc}\n",
       "\\textbf{Ljung-Box (L1) (Q):}     & 0.18 & \\textbf{  Jarque-Bera (JB):  } & 90855.61  \\\\\n",
       "\\textbf{Prob(Q):}                & 0.67 & \\textbf{  Prob(JB):          } &   0.00    \\\\\n",
       "\\textbf{Heteroskedasticity (H):} & 2.69 & \\textbf{  Skew:              } &   1.34    \\\\\n",
       "\\textbf{Prob(H) (two-sided):}    & 0.00 & \\textbf{  Kurtosis:          } &  20.46    \\\\\n",
       "\\bottomrule\n",
       "\\end{tabular}\n",
       "%\\caption{SARIMAX Results}\n",
       "\\end{center}\n",
       "\n",
       "Warnings: \\newline\n",
       " [1] Covariance matrix calculated using the outer product of gradients (complex-step)."
      ],
      "text/plain": [
       "<class 'statsmodels.iolib.summary.Summary'>\n",
       "\"\"\"\n",
       "                               SARIMAX Results                                \n",
       "==============================================================================\n",
       "Dep. Variable:                  CLOSE   No. Observations:                 6992\n",
       "Model:                 ARIMA(1, 0, 2)   Log Likelihood              -12740.037\n",
       "Date:                Fri, 23 Aug 2024   AIC                          25490.074\n",
       "Time:                        17:04:29   BIC                          25524.337\n",
       "Sample:                             0   HQIC                         25501.881\n",
       "                               - 6992                                         \n",
       "Covariance Type:                  opg                                         \n",
       "==============================================================================\n",
       "                 coef    std err          z      P>|z|      [0.025      0.975]\n",
       "------------------------------------------------------------------------------\n",
       "const         19.4149      1.623     11.963      0.000      16.234      22.596\n",
       "ar.L1          0.9885      0.001   1064.962      0.000       0.987       0.990\n",
       "ma.L1         -0.1109      0.005    -20.338      0.000      -0.122      -0.100\n",
       "ma.L2         -0.0979      0.004    -23.564      0.000      -0.106      -0.090\n",
       "sigma2         2.2385      0.013    172.178      0.000       2.213       2.264\n",
       "===================================================================================\n",
       "Ljung-Box (L1) (Q):                   0.18   Jarque-Bera (JB):             90855.61\n",
       "Prob(Q):                              0.67   Prob(JB):                         0.00\n",
       "Heteroskedasticity (H):               2.69   Skew:                             1.34\n",
       "Prob(H) (two-sided):                  0.00   Kurtosis:                        20.46\n",
       "===================================================================================\n",
       "\n",
       "Warnings:\n",
       "[1] Covariance matrix calculated using the outer product of gradients (complex-step).\n",
       "\"\"\""
      ]
     },
     "execution_count": 219,
     "metadata": {},
     "output_type": "execute_result"
    }
   ],
   "source": [
    "model = ARIMA(train, order = (1,0,2))\n",
    "model_fit = model.fit()\n",
    "model_fit.summary()"
   ]
  },
  {
   "cell_type": "code",
   "execution_count": 220,
   "id": "9f62e313-eee7-44e7-beb1-0b10dabdb293",
   "metadata": {},
   "outputs": [
    {
     "name": "stdout",
     "output_type": "stream",
     "text": [
      "6992     9.756592\n",
      "6993     9.870915\n",
      "6994     9.980949\n",
      "6995    10.089714\n",
      "6996    10.197226\n",
      "          ...    \n",
      "8735    19.414885\n",
      "8736    19.414885\n",
      "8737    19.414885\n",
      "8738    19.414885\n",
      "8739    19.414885\n",
      "Name: predicted_mean, Length: 1748, dtype: float64\n"
     ]
    },
    {
     "name": "stderr",
     "output_type": "stream",
     "text": [
      "C:\\Users\\jiyas\\AppData\\Roaming\\Python\\Python311\\site-packages\\statsmodels\\tsa\\base\\tsa_model.py:836: ValueWarning: No supported index is available. Prediction results will be given with an integer index beginning at `start`.\n",
      "  return get_prediction_index(\n",
      "C:\\Users\\jiyas\\AppData\\Roaming\\Python\\Python311\\site-packages\\statsmodels\\tsa\\base\\tsa_model.py:836: FutureWarning: No supported index is available. In the next version, calling this method in a model without a supported index will result in an exception.\n",
      "  return get_prediction_index(\n"
     ]
    }
   ],
   "source": [
    "predictions = model_fit.forecast(steps=len(test))\n",
    "print(predictions)"
   ]
  },
  {
   "cell_type": "markdown",
   "id": "750e745b-349f-4b5b-8cb6-5d8ade700a7a",
   "metadata": {},
   "source": [
    "### Model Evaluation\n",
    "Calculate the Mean Absolute Error (MAE) and Root Mean Squared Error (RMSE) to evaluate the model's performance"
   ]
  },
  {
   "cell_type": "code",
   "execution_count": 222,
   "id": "5f809567-1229-4b0b-9539-6057a94aaaa8",
   "metadata": {},
   "outputs": [
    {
     "name": "stdout",
     "output_type": "stream",
     "text": [
      "Mean Absolute Error (MAE): 5.256652762990841\n",
      "Root Mean Squared Error (RMSE): 7.686231897992504\n"
     ]
    }
   ],
   "source": [
    "from sklearn.metrics import mean_absolute_error, mean_squared_error"
   ]
  },
  {
   "cell_type": "code",
   "execution_count": null,
   "id": "584d96b8-158e-48a8-b8d7-8adb6b6b184d",
   "metadata": {},
   "outputs": [],
   "source": [
    "mae = mean_absolute_error(test, predictions)\n",
    "rmse = np.sqrt(mean_squared_error(test, predictions))\n",
    "\n",
    "print(f'Mean Absolute Error (MAE): {mae}')\n",
    "print(f'Root Mean Squared Error (RMSE): {rmse}')"
   ]
  },
  {
   "cell_type": "markdown",
   "id": "39f3894b-6736-4d33-8c2c-e906345bb221",
   "metadata": {},
   "source": [
    "### Residual Analysis\n",
    "Residual are the differences between the observed values and the values predicted by the model. Analyzing the residuals allows to check whether the model has captured the data's underlying structure adquately."
   ]
  },
  {
   "cell_type": "code",
   "execution_count": 224,
   "id": "e9cce877-4bdb-4852-b0cc-4d03660b4e27",
   "metadata": {},
   "outputs": [
    {
     "data": {
      "image/png": "[encoded data removed]",
      "text/plain": [
       "<Figure size 640x480 with 1 Axes>"
      ]
     },
     "metadata": {},
     "output_type": "display_data"
    }
   ],
   "source": [
    "residuals = model_fit.resid\n",
    "plt.plot(residuals)\n",
    "plt.show()"
   ]
  },
  {
   "cell_type": "markdown",
   "id": "b974b345-bb3b-4d21-bfd3-b91f1bb51968",
   "metadata": {},
   "source": [
    "#### Residual plot\n",
    "\n",
    "The notable spikes are observed during known periods of market stress, like the 2008 financial crisis. These spikes indicate times when the model's predictions deviated more significantly from the actual VIX values, likely due to the extreme market conditions that are difficult for any model to predict accurately."
   ]
  },
  {
   "cell_type": "code",
   "execution_count": 225,
   "id": "464b919a-e07a-4ca9-9458-8f932ab44ff2",
   "metadata": {},
   "outputs": [
    {
     "data": {
      "image/png": "[encoded data removed]",
      "text/plain": [
       "<Figure size 640x480 with 1 Axes>"
      ]
     },
     "metadata": {},
     "output_type": "display_data"
    }
   ],
   "source": [
    "plot_acf(residuals, lags=40)\n",
    "plt.title('ACF of Residuals')\n",
    "plt.show()"
   ]
  },
  {
   "cell_type": "markdown",
   "id": "d080bc2e-275f-46cf-86f8-cf80506e5ec7",
   "metadata": {},
   "source": [
    "The ACF plot of the residuals supports the conclusion that the ARIMA (1,0,2) model has successfully captured the underlying time series structure. The near-zero autocorrelations (apart from the one at lag 1, which is expected) indicate that the residuals do not exhibit any patterns that the model failed to capture"
   ]
  }
 ],
 "metadata": {
  "kernelspec": {
   "display_name": "Python 3 (ipykernel)",
   "language": "python",
   "name": "python3"
  },
  "language_info": {
   "codemirror_mode": {
    "name": "ipython",
    "version": 3
   },
   "file_extension": ".py",
   "mimetype": "text/x-python",
   "name": "python",
   "nbconvert_exporter": "python",
   "pygments_lexer": "ipython3",
   "version": "3.11.5"
  }
 },
 "nbformat": 4,
 "nbformat_minor": 5
}
